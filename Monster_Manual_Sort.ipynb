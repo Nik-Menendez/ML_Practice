{
 "cells": [
  {
   "cell_type": "code",
   "execution_count": 1,
   "metadata": {},
   "outputs": [
    {
     "name": "stdout",
     "output_type": "stream",
     "text": [
      "1.6.0\n"
     ]
    }
   ],
   "source": [
    "from __future__ import absolute_import, division, print_function\n",
    "\n",
    "# TensorFlow and tf.keras\n",
    "import tensorflow as tf\n",
    "from tensorflow import keras\n",
    "\n",
    "# Helper libraries\n",
    "import numpy as np\n",
    "import matplotlib.pyplot as plt\n",
    "\n",
    "print(tf.__version__)"
   ]
  },
  {
   "cell_type": "code",
   "execution_count": 2,
   "metadata": {},
   "outputs": [],
   "source": [
    "monster_data = np.genfromtxt('Monster Data.csv', delimiter=',')"
   ]
  },
  {
   "cell_type": "code",
   "execution_count": 3,
   "metadata": {},
   "outputs": [
    {
     "data": {
      "text/plain": [
       "(797, 13)"
      ]
     },
     "execution_count": 3,
     "metadata": {},
     "output_type": "execute_result"
    }
   ],
   "source": [
    "monster_data.shape"
   ]
  },
  {
   "cell_type": "code",
   "execution_count": 4,
   "metadata": {},
   "outputs": [],
   "source": [
    "monster_data = monster_data[:,:-2]\n",
    "data_len = 10"
   ]
  },
  {
   "cell_type": "code",
   "execution_count": 5,
   "metadata": {},
   "outputs": [],
   "source": [
    "np.random.shuffle(monster_data)\n",
    "#monster_data = np.delete(monster_data,1,1)\n",
    "monster_train = monster_data[:-160,:]\n",
    "monster_test = monster_data[637:,:]\n",
    "monster_train_data = monster_train[:,:-1]\n",
    "monster_train_label = monster_train[:,data_len]\n",
    "monster_test_data = monster_test[:,:-1]\n",
    "monster_test_label = monster_test[:,data_len]\n",
    "\n",
    "for i in range(len(monster_test_label)):\n",
    "    if monster_test_label[i] >= 1:\n",
    "        monster_test_label[i] = monster_test_label[i] + 3\n",
    "    elif monster_test_label[i] == .13:\n",
    "        monster_test_label[i] = 1\n",
    "    elif monster_test_label[i] == .25:\n",
    "        monster_test_label[i] = 2\n",
    "    elif monster_test_label[i] == .5:\n",
    "        monster_test_label[i] = 3\n",
    "        \n",
    "for i in range(len(monster_train_label)):\n",
    "    if monster_train_label[i] >= 1:\n",
    "        monster_train_label[i] = monster_train_label[i] + 3\n",
    "    elif monster_train_label[i] == .13:\n",
    "        monster_train_label[i] = 1\n",
    "    elif monster_train_label[i] == .25:\n",
    "        monster_train_label[i] = 2\n",
    "    elif monster_train_label[i] == .5:\n",
    "        monster_train_label[i] = 3"
   ]
  },
  {
   "cell_type": "code",
   "execution_count": 6,
   "metadata": {},
   "outputs": [
    {
     "name": "stdout",
     "output_type": "stream",
     "text": [
      "_________________________________________________________________\n",
      "Layer (type)                 Output Shape              Param #   \n",
      "=================================================================\n",
      "dense_1 (Dense)              (None, 32)                352       \n",
      "_________________________________________________________________\n",
      "dense_2 (Dense)              (None, 64)                2112      \n",
      "_________________________________________________________________\n",
      "dense_3 (Dense)              (None, 34)                2210      \n",
      "=================================================================\n",
      "Total params: 4,674\n",
      "Trainable params: 4,674\n",
      "Non-trainable params: 0\n",
      "_________________________________________________________________\n"
     ]
    }
   ],
   "source": [
    "model = keras.Sequential()\n",
    "model.add(keras.layers.Dense(32, input_dim=data_len))\n",
    "model.add(keras.layers.Dense(64, activation=tf.nn.relu))\n",
    "model.add(keras.layers.Dense(34, activation=tf.nn.softmax))\n",
    "\n",
    "model.summary()"
   ]
  },
  {
   "cell_type": "code",
   "execution_count": 7,
   "metadata": {},
   "outputs": [],
   "source": [
    "model.compile(optimizer='adam',\n",
    "              loss='sparse_categorical_crossentropy',\n",
    "              metrics=['acc'])"
   ]
  },
  {
   "cell_type": "code",
   "execution_count": 8,
   "metadata": {},
   "outputs": [
    {
     "name": "stdout",
     "output_type": "stream",
     "text": [
      "Train on 509 samples, validate on 128 samples\n",
      "Epoch 1/50\n",
      "509/509 [==============================]509/509 [==============================] - 1s 1ms/step - loss: 10.5890 - acc: 0.1002 - val_loss: 8.8655 - val_acc: 0.1641\n",
      "\n",
      "Epoch 2/50\n",
      "509/509 [==============================]509/509 [==============================] - 0s 62us/step - loss: 7.1605 - acc: 0.1591 - val_loss: 6.5009 - val_acc: 0.2188\n",
      "\n",
      "Epoch 3/50\n",
      "509/509 [==============================]509/509 [==============================] - 0s 62us/step - loss: 6.2704 - acc: 0.1847 - val_loss: 6.1763 - val_acc: 0.1953\n",
      "\n",
      "Epoch 4/50\n",
      "509/509 [==============================]509/509 [==============================] - 0s 62us/step - loss: 5.8817 - acc: 0.2220 - val_loss: 5.9216 - val_acc: 0.1953\n",
      "\n",
      "Epoch 5/50\n",
      "509/509 [==============================]509/509 [==============================] - 0s 62us/step - loss: 5.8050 - acc: 0.2279 - val_loss: 5.9173 - val_acc: 0.2109\n",
      "\n",
      "Epoch 6/50\n",
      "509/509 [==============================]509/509 [==============================] - 0s 62us/step - loss: 5.7600 - acc: 0.2495 - val_loss: 5.9216 - val_acc: 0.2031\n",
      "\n",
      "Epoch 7/50\n",
      "509/509 [==============================]509/509 [==============================] - 0s 63us/step - loss: 5.6839 - acc: 0.2849 - val_loss: 5.8687 - val_acc: 0.2500\n",
      "\n",
      "Epoch 8/50\n",
      "509/509 [==============================]509/509 [==============================] - 0s 65us/step - loss: 5.6474 - acc: 0.2849 - val_loss: 5.8226 - val_acc: 0.2891\n",
      "\n",
      "Epoch 9/50\n",
      "509/509 [==============================]509/509 [==============================] - 0s 65us/step - loss: 5.6108 - acc: 0.2986 - val_loss: 5.9350 - val_acc: 0.3281\n",
      "\n",
      "Epoch 10/50\n",
      "509/509 [==============================]509/509 [==============================] - 0s 64us/step - loss: 5.6628 - acc: 0.2672 - val_loss: 5.8028 - val_acc: 0.2812\n",
      "\n",
      "Epoch 11/50\n",
      "509/509 [==============================]509/509 [==============================] - 0s 65us/step - loss: 5.5582 - acc: 0.3163 - val_loss: 5.7306 - val_acc: 0.2891\n",
      "\n",
      "Epoch 12/50\n",
      "509/509 [==============================]509/509 [==============================] - 0s 67us/step - loss: 5.5634 - acc: 0.3281 - val_loss: 5.8392 - val_acc: 0.2578\n",
      "\n",
      "Epoch 13/50\n",
      "509/509 [==============================]509/509 [==============================] - 0s 62us/step - loss: 5.5621 - acc: 0.3006 - val_loss: 5.7609 - val_acc: 0.2969\n",
      "\n",
      "Epoch 14/50\n",
      "509/509 [==============================]509/509 [==============================] - 0s 65us/step - loss: 5.5740 - acc: 0.3143 - val_loss: 5.7405 - val_acc: 0.2422\n",
      "\n",
      "Epoch 15/50\n",
      "509/509 [==============================]509/509 [==============================] - 0s 64us/step - loss: 5.4931 - acc: 0.3222 - val_loss: 5.6010 - val_acc: 0.3047\n",
      "\n",
      "Epoch 16/50\n",
      "509/509 [==============================]509/509 [==============================] - 0s 63us/step - loss: 5.4766 - acc: 0.3301 - val_loss: 5.6540 - val_acc: 0.2969\n",
      "\n",
      "Epoch 17/50\n",
      "509/509 [==============================]509/509 [==============================] - 0s 63us/step - loss: 5.4267 - acc: 0.3242 - val_loss: 5.5851 - val_acc: 0.3047\n",
      "\n",
      "Epoch 18/50\n",
      "509/509 [==============================]509/509 [==============================] - 0s 64us/step - loss: 5.4301 - acc: 0.3517 - val_loss: 5.6169 - val_acc: 0.2500\n",
      "\n",
      "Epoch 19/50\n",
      "509/509 [==============================]509/509 [==============================] - 0s 63us/step - loss: 5.4128 - acc: 0.3399 - val_loss: 5.6852 - val_acc: 0.2266\n",
      "\n",
      "Epoch 20/50\n",
      "509/509 [==============================]509/509 [==============================] - 0s 63us/step - loss: 5.4162 - acc: 0.3615 - val_loss: 5.5795 - val_acc: 0.3281\n",
      "\n",
      "Epoch 21/50\n",
      "509/509 [==============================]509/509 [==============================] - 0s 63us/step - loss: 5.3978 - acc: 0.3713 - val_loss: 5.6098 - val_acc: 0.2734\n",
      "\n",
      "Epoch 22/50\n",
      "509/509 [==============================]509/509 [==============================] - 0s 63us/step - loss: 5.4170 - acc: 0.3477 - val_loss: 5.6199 - val_acc: 0.2891\n",
      "\n",
      "Epoch 23/50\n",
      "509/509 [==============================]509/509 [==============================] - 0s 65us/step - loss: 5.4074 - acc: 0.3595 - val_loss: 5.6462 - val_acc: 0.2969\n",
      "\n",
      "Epoch 24/50\n",
      "509/509 [==============================]509/509 [==============================] - 0s 64us/step - loss: 5.4527 - acc: 0.3242 - val_loss: 5.6067 - val_acc: 0.2891\n",
      "\n",
      "Epoch 25/50\n",
      "509/509 [==============================]509/509 [==============================] - 0s 62us/step - loss: 5.3838 - acc: 0.3752 - val_loss: 5.5534 - val_acc: 0.3203\n",
      "\n",
      "Epoch 26/50\n",
      "509/509 [==============================]509/509 [==============================] - 0s 63us/step - loss: 5.3841 - acc: 0.3654 - val_loss: 5.8837 - val_acc: 0.2812\n",
      "\n",
      "Epoch 27/50\n",
      "509/509 [==============================]509/509 [==============================] - 0s 63us/step - loss: 5.4422 - acc: 0.3576 - val_loss: 5.6386 - val_acc: 0.2812\n",
      "\n",
      "Epoch 28/50\n",
      "509/509 [==============================]509/509 [==============================] - 0s 62us/step - loss: 5.4212 - acc: 0.3556 - val_loss: 5.7216 - val_acc: 0.2578\n",
      "\n",
      "Epoch 29/50\n",
      "509/509 [==============================]509/509 [==============================] - 0s 64us/step - loss: 5.3444 - acc: 0.3910 - val_loss: 5.6449 - val_acc: 0.2422\n",
      "\n",
      "Epoch 30/50\n",
      "509/509 [==============================]509/509 [==============================] - 0s 63us/step - loss: 5.3792 - acc: 0.3615 - val_loss: 5.6131 - val_acc: 0.3125\n",
      "\n",
      "Epoch 31/50\n",
      "509/509 [==============================]509/509 [==============================] - 0s 63us/step - loss: 5.3718 - acc: 0.3752 - val_loss: 5.6115 - val_acc: 0.3047\n",
      "\n",
      "Epoch 32/50\n",
      "509/509 [==============================]509/509 [==============================] - 0s 62us/step - loss: 5.3631 - acc: 0.3713 - val_loss: 5.5775 - val_acc: 0.2812\n",
      "\n",
      "Epoch 33/50\n",
      "509/509 [==============================]509/509 [==============================] - 0s 64us/step - loss: 5.3575 - acc: 0.3772 - val_loss: 5.5736 - val_acc: 0.3281\n",
      "\n",
      "Epoch 34/50\n",
      "509/509 [==============================]509/509 [==============================] - 0s 63us/step - loss: 5.3732 - acc: 0.3517 - val_loss: 5.5499 - val_acc: 0.3047\n",
      "\n",
      "Epoch 35/50\n",
      "509/509 [==============================]509/509 [==============================] - 0s 64us/step - loss: 5.3462 - acc: 0.4008 - val_loss: 5.6577 - val_acc: 0.3047\n",
      "\n",
      "Epoch 36/50\n",
      "509/509 [==============================]509/509 [==============================] - 0s 65us/step - loss: 5.3241 - acc: 0.3929 - val_loss: 5.5972 - val_acc: 0.2969\n",
      "\n",
      "Epoch 37/50\n",
      "509/509 [==============================]509/509 [==============================] - 0s 64us/step - loss: 5.3351 - acc: 0.3635 - val_loss: 5.6101 - val_acc: 0.2969\n",
      "\n",
      "Epoch 38/50\n",
      "509/509 [==============================]509/509 [==============================] - 0s 63us/step - loss: 5.3425 - acc: 0.3595 - val_loss: 5.6313 - val_acc: 0.2734\n",
      "\n",
      "Epoch 39/50\n",
      "509/509 [==============================]509/509 [==============================] - 0s 63us/step - loss: 5.3138 - acc: 0.3752 - val_loss: 5.6684 - val_acc: 0.3047\n",
      "\n",
      "Epoch 40/50\n",
      "509/509 [==============================]509/509 [==============================] - 0s 65us/step - loss: 5.3371 - acc: 0.3851 - val_loss: 5.6238 - val_acc: 0.2969\n",
      "\n",
      "Epoch 41/50\n",
      "509/509 [==============================]509/509 [==============================] - 0s 64us/step - loss: 5.3453 - acc: 0.3910 - val_loss: 5.5368 - val_acc: 0.3516\n",
      "\n",
      "Epoch 42/50\n",
      "509/509 [==============================]509/509 [==============================] - 0s 64us/step - loss: 5.3236 - acc: 0.3870 - val_loss: 5.7086 - val_acc: 0.2734\n",
      "\n",
      "Epoch 43/50\n",
      "509/509 [==============================]509/509 [==============================] - 0s 62us/step - loss: 5.3442 - acc: 0.3890 - val_loss: 5.6542 - val_acc: 0.2812\n",
      "\n",
      "Epoch 44/50\n",
      "509/509 [==============================]509/509 [==============================] - 0s 62us/step - loss: 5.3096 - acc: 0.4008 - val_loss: 5.5758 - val_acc: 0.3359\n",
      "\n",
      "Epoch 45/50\n",
      "509/509 [==============================]509/509 [==============================] - 0s 63us/step - loss: 5.3065 - acc: 0.4145 - val_loss: 5.5633 - val_acc: 0.3438\n",
      "\n",
      "Epoch 46/50\n",
      "509/509 [==============================]509/509 [==============================] - 0s 65us/step - loss: 5.2845 - acc: 0.4028 - val_loss: 5.5432 - val_acc: 0.3672\n",
      "\n",
      "Epoch 47/50\n"
     ]
    },
    {
     "name": "stdout",
     "output_type": "stream",
     "text": [
      "509/509 [==============================]509/509 [==============================] - 0s 63us/step - loss: 5.3014 - acc: 0.3949 - val_loss: 5.5413 - val_acc: 0.3359\n",
      "\n",
      "Epoch 48/50\n",
      "509/509 [==============================]509/509 [==============================] - 0s 64us/step - loss: 5.2977 - acc: 0.3890 - val_loss: 5.5925 - val_acc: 0.2656\n",
      "\n",
      "Epoch 49/50\n",
      "509/509 [==============================]509/509 [==============================] - 0s 65us/step - loss: 5.2831 - acc: 0.3870 - val_loss: 5.5786 - val_acc: 0.2578\n",
      "\n",
      "Epoch 50/50\n",
      "509/509 [==============================]509/509 [==============================] - 0s 65us/step - loss: 5.3155 - acc: 0.3851 - val_loss: 5.6697 - val_acc: 0.3047\n",
      "\n"
     ]
    }
   ],
   "source": [
    "history = model.fit(monster_train_data,\n",
    "                    monster_train_label,\n",
    "                    validation_split=.2,\n",
    "                   epochs = 50)"
   ]
  },
  {
   "cell_type": "code",
   "execution_count": 9,
   "metadata": {},
   "outputs": [
    {
     "name": "stdout",
     "output_type": "stream",
     "text": [
      "160/160 [==============================]160/160 [==============================] - 0s 43us/step\n",
      "\n",
      "[nan, 0.3125]\n"
     ]
    }
   ],
   "source": [
    "results = model.evaluate(monster_test_data, monster_test_label)\n",
    "\n",
    "print(results)"
   ]
  },
  {
   "cell_type": "code",
   "execution_count": 10,
   "metadata": {},
   "outputs": [
    {
     "data": {
      "text/plain": [
       "['acc', 'loss', 'val_acc', 'val_loss']"
      ]
     },
     "execution_count": 10,
     "metadata": {},
     "output_type": "execute_result"
    }
   ],
   "source": [
    "history_dict = history.history\n",
    "history_dict.keys()"
   ]
  },
  {
   "cell_type": "code",
   "execution_count": 11,
   "metadata": {},
   "outputs": [
    {
     "data": {
      "image/png": "[encoded data removed]",
      "text/plain": [
       "<Figure size 432x288 with 1 Axes>"
      ]
     },
     "metadata": {
      "needs_background": "light"
     },
     "output_type": "display_data"
    }
   ],
   "source": [
    "plt.clf()\n",
    "\n",
    "acc = history_dict['acc']\n",
    "val_acc = history_dict['val_acc']\n",
    "loss = history_dict['loss']\n",
    "val_loss = history_dict['val_loss']\n",
    "\n",
    "epochs = range(1, len(acc) + 1)\n",
    "\n",
    "# \"bo\" is for \"blue dot\"\n",
    "plt.plot(epochs, loss, 'bo', label='Training loss')\n",
    "# b is for \"solid blue line\"\n",
    "plt.plot(epochs, val_loss, 'b', label='Validation loss')\n",
    "plt.title('Training and validation loss')\n",
    "plt.xlabel('Epochs')\n",
    "plt.ylabel('Loss')\n",
    "plt.legend()\n",
    "\n",
    "plt.show()"
   ]
  },
  {
   "cell_type": "code",
   "execution_count": 12,
   "metadata": {},
   "outputs": [
    {
     "data": {
      "image/png": "[encoded data removed]",
      "text/plain": [
       "<Figure size 432x288 with 1 Axes>"
      ]
     },
     "metadata": {
      "needs_background": "light"
     },
     "output_type": "display_data"
    }
   ],
   "source": [
    "plt.clf()   # clear figure\n",
    "\n",
    "plt.plot(epochs, acc, 'bo', label='Training acc')\n",
    "plt.plot(epochs, val_acc, 'b', label='Validation acc')\n",
    "plt.title('Training and validation accuracy')\n",
    "plt.xlabel('Epochs')\n",
    "plt.ylabel('Accuracy')\n",
    "plt.legend()\n",
    "\n",
    "plt.show()"
   ]
  },
  {
   "cell_type": "code",
   "execution_count": 13,
   "metadata": {},
   "outputs": [],
   "source": [
    "predictions = model.predict(monster_test_data)"
   ]
  },
  {
   "cell_type": "code",
   "execution_count": 14,
   "metadata": {},
   "outputs": [
    {
     "data": {
      "text/plain": [
       "array([5.37444269e-15, 1.40241443e-10, 1.82027859e-09, 1.84697456e-06,\n",
       "       7.41897500e-04, 1.49000250e-03, 4.61011790e-02, 1.75239936e-01,\n",
       "       7.36245573e-01, 5.11927498e-24, 6.70324615e-20, 7.41934754e-17,\n",
       "       1.91350397e-15, 3.07938960e-16, 2.16959752e-02, 4.92986410e-18,\n",
       "       2.41581473e-16, 1.04960731e-13, 1.61328465e-02, 5.99078450e-20,\n",
       "       5.84741283e-12, 9.10422564e-16, 2.52673858e-13, 4.01784508e-12,\n",
       "       3.43962335e-15, 1.89633720e-18, 2.34341901e-03, 3.71469211e-17,\n",
       "       2.44147718e-16, 1.05111093e-11, 7.39667530e-06, 9.45157039e-14,\n",
       "       1.11452175e-20, 1.01081071e-11], dtype=float32)"
      ]
     },
     "execution_count": 14,
     "metadata": {},
     "output_type": "execute_result"
    }
   ],
   "source": [
    "predictions[0]"
   ]
  },
  {
   "cell_type": "code",
   "execution_count": 15,
   "metadata": {},
   "outputs": [
    {
     "data": {
      "text/plain": [
       "8"
      ]
     },
     "execution_count": 15,
     "metadata": {},
     "output_type": "execute_result"
    }
   ],
   "source": [
    "np.argmax(predictions[0])"
   ]
  },
  {
   "cell_type": "code",
   "execution_count": 16,
   "metadata": {},
   "outputs": [
    {
     "data": {
      "text/plain": [
       "10.0"
      ]
     },
     "execution_count": 16,
     "metadata": {},
     "output_type": "execute_result"
    }
   ],
   "source": [
    "monster_test_label[0]"
   ]
  },
  {
   "cell_type": "code",
   "execution_count": null,
   "metadata": {},
   "outputs": [],
   "source": []
  }
 ],
 "metadata": {
  "kernelspec": {
   "display_name": "Python 2",
   "language": "python",
   "name": "python2"
  },
  "language_info": {
   "codemirror_mode": {
    "name": "ipython",
    "version": 2
   },
   "file_extension": ".py",
   "mimetype": "text/x-python",
   "name": "python",
   "nbconvert_exporter": "python",
   "pygments_lexer": "ipython2",
   "version": "2.7.14+"
  }
 },
 "nbformat": 4,
 "nbformat_minor": 2
}
