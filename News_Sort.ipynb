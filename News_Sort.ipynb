{
 "cells": [
  {
   "cell_type": "markdown",
   "metadata": {},
   "source": [
    "**Import Needed Stuff**"
   ]
  },
  {
   "cell_type": "code",
   "execution_count": 1,
   "metadata": {},
   "outputs": [
    {
     "name": "stdout",
     "output_type": "stream",
     "text": [
      "1.6.0\n"
     ]
    }
   ],
   "source": [
    "from __future__ import absolute_import, division, print_function\n",
    "\n",
    "# TensorFlow and tf.keras\n",
    "import tensorflow as tf\n",
    "from tensorflow import keras\n",
    "\n",
    "# Helper libraries\n",
    "import numpy as np\n",
    "import matplotlib.pyplot as plt\n",
    "\n",
    "print(tf.__version__)"
   ]
  },
  {
   "cell_type": "markdown",
   "metadata": {},
   "source": [
    "**Import Dataset**"
   ]
  },
  {
   "cell_type": "code",
   "execution_count": 2,
   "metadata": {},
   "outputs": [],
   "source": [
    "reuters = keras.datasets.reuters\n",
    "\n",
    "(train_data, train_labels), (test_data, test_labels) = reuters.load_data(num_words=10000)"
   ]
  },
  {
   "cell_type": "markdown",
   "metadata": {},
   "source": [
    "**Look at Dataset**"
   ]
  },
  {
   "cell_type": "code",
   "execution_count": 3,
   "metadata": {},
   "outputs": [
    {
     "name": "stdout",
     "output_type": "stream",
     "text": [
      "Training entries: 8982, labels: 8982\n"
     ]
    }
   ],
   "source": [
    "print(\"Training entries: {}, labels: {}\".format(len(train_data), len(train_labels)))"
   ]
  },
  {
   "cell_type": "code",
   "execution_count": 4,
   "metadata": {},
   "outputs": [
    {
     "data": {
      "text/plain": [
       "(87, 56)"
      ]
     },
     "execution_count": 4,
     "metadata": {},
     "output_type": "execute_result"
    }
   ],
   "source": [
    "len(train_data[0]), len(train_data[1])"
   ]
  },
  {
   "cell_type": "code",
   "execution_count": 5,
   "metadata": {},
   "outputs": [],
   "source": [
    "#Dictionary\n",
    "word_index = reuters.get_word_index(path=\"reuters_word_index.json\")\n",
    "\n",
    "# The first indices are reserved\n",
    "word_index = {k:(v+3) for k,v in word_index.items()} \n",
    "word_index[\"<PAD>\"] = 0\n",
    "word_index[\"<START>\"] = 1\n",
    "word_index[\"<UNK>\"] = 2  # unknown\n",
    "word_index[\"<UNUSED>\"] = 3\n",
    "\n",
    "reverse_word_index = dict([(value, key) for (key, value) in word_index.items()])\n",
    "\n",
    "def decode_story(text):\n",
    "    return ' '.join([reverse_word_index.get(i, '?') for i in text])"
   ]
  },
  {
   "cell_type": "code",
   "execution_count": 6,
   "metadata": {},
   "outputs": [
    {
     "data": {
      "text/plain": [
       "u'<START> <UNK> <UNK> said as a result of its december acquisition of space co it expects earnings per share in 1987 of 1 15 to 1 30 dlrs per share up from 70 cts in 1986 the company said pretax net should rise to nine to 10 mln dlrs from six mln dlrs in 1986 and rental operation revenues to 19 to 22 mln dlrs from 12 5 mln dlrs it said cash flow per share this year should be 2 50 to three dlrs reuter 3'"
      ]
     },
     "execution_count": 6,
     "metadata": {},
     "output_type": "execute_result"
    }
   ],
   "source": [
    "decode_story(train_data[0])"
   ]
  },
  {
   "cell_type": "markdown",
   "metadata": {},
   "source": [
    "**Scale Dataset**"
   ]
  },
  {
   "cell_type": "code",
   "execution_count": 7,
   "metadata": {},
   "outputs": [
    {
     "name": "stdout",
     "output_type": "stream",
     "text": [
      "Max length =  2376 , story number  8699\n"
     ]
    }
   ],
   "source": [
    "max_length = 0\n",
    "for i in range(8982):\n",
    "    if len(train_data[i]) > max_length:\n",
    "        max_length = len(train_data[i])\n",
    "        max_review = i\n",
    "\n",
    "print(\"Max length = \", max_length, \", story number \", max_review)"
   ]
  },
  {
   "cell_type": "code",
   "execution_count": 8,
   "metadata": {},
   "outputs": [],
   "source": [
    "train_data = keras.preprocessing.sequence.pad_sequences(train_data,\n",
    "                                                        value=word_index[\"<PAD>\"],\n",
    "                                                        padding='post',\n",
    "                                                        maxlen=max_length)\n",
    "\n",
    "test_data = keras.preprocessing.sequence.pad_sequences(test_data,\n",
    "                                                       value=word_index[\"<PAD>\"],\n",
    "                                                       padding='post',\n",
    "                                                       maxlen=max_length)"
   ]
  },
  {
   "cell_type": "markdown",
   "metadata": {},
   "source": [
    "**Create Model**"
   ]
  },
  {
   "cell_type": "code",
   "execution_count": 9,
   "metadata": {},
   "outputs": [
    {
     "name": "stdout",
     "output_type": "stream",
     "text": [
      "_________________________________________________________________\n",
      "Layer (type)                 Output Shape              Param #   \n",
      "=================================================================\n",
      "embedding_1 (Embedding)      (None, None, 16)          160000    \n",
      "_________________________________________________________________\n",
      "global_average_pooling1d_1 ( (None, 16)                0         \n",
      "_________________________________________________________________\n",
      "dense_1 (Dense)              (None, 128)               2176      \n",
      "_________________________________________________________________\n",
      "dense_2 (Dense)              (None, 46)                5934      \n",
      "=================================================================\n",
      "Total params: 168,110\n",
      "Trainable params: 168,110\n",
      "Non-trainable params: 0\n",
      "_________________________________________________________________\n"
     ]
    }
   ],
   "source": [
    "# input shape is the vocabulary count used for the news stories (10,000 words)\n",
    "vocab_size = 10000\n",
    "\n",
    "model = keras.Sequential()\n",
    "model.add(keras.layers.Embedding(vocab_size, 16))\n",
    "model.add(keras.layers.GlobalAveragePooling1D())\n",
    "model.add(keras.layers.Dense(128, activation=tf.nn.relu))\n",
    "model.add(keras.layers.Dense(46, activation=tf.nn.softmax))\n",
    "\n",
    "model.summary()"
   ]
  },
  {
   "cell_type": "code",
   "execution_count": 10,
   "metadata": {},
   "outputs": [],
   "source": [
    "model.compile(optimizer='adam',\n",
    "              loss='sparse_categorical_crossentropy',\n",
    "              metrics=['acc'])"
   ]
  },
  {
   "cell_type": "markdown",
   "metadata": {},
   "source": [
    "**Train Model**"
   ]
  },
  {
   "cell_type": "code",
   "execution_count": 11,
   "metadata": {},
   "outputs": [
    {
     "name": "stdout",
     "output_type": "stream",
     "text": [
      "Train on 7185 samples, validate on 1797 samples\n",
      "Epoch 1/50\n",
      "7185/7185 [==============================]7185/7185 [==============================] - 5s 676us/step - loss: 2.5775 - acc: 0.3328 - val_loss: 2.4003 - val_acc: 0.3450\n",
      "\n",
      "Epoch 2/50\n",
      "7185/7185 [==============================]7185/7185 [==============================] - 4s 583us/step - loss: 2.3990 - acc: 0.3534 - val_loss: 2.3930 - val_acc: 0.3450\n",
      "\n",
      "Epoch 3/50\n",
      "7185/7185 [==============================]7185/7185 [==============================] - 4s 572us/step - loss: 2.3922 - acc: 0.3534 - val_loss: 2.3911 - val_acc: 0.3450\n",
      "\n",
      "Epoch 4/50\n",
      "7185/7185 [==============================]7185/7185 [==============================] - 4s 579us/step - loss: 2.3856 - acc: 0.3534 - val_loss: 2.3814 - val_acc: 0.3450\n",
      "\n",
      "Epoch 5/50\n",
      "7185/7185 [==============================]7185/7185 [==============================] - 4s 562us/step - loss: 2.3763 - acc: 0.3534 - val_loss: 2.3671 - val_acc: 0.3450\n",
      "\n",
      "Epoch 6/50\n",
      "7185/7185 [==============================]7185/7185 [==============================] - 4s 547us/step - loss: 2.3636 - acc: 0.3537 - val_loss: 2.3497 - val_acc: 0.3450\n",
      "\n",
      "Epoch 7/50\n",
      "7185/7185 [==============================]7185/7185 [==============================] - 4s 548us/step - loss: 2.3341 - acc: 0.3566 - val_loss: 2.3024 - val_acc: 0.3550\n",
      "\n",
      "Epoch 8/50\n",
      "7185/7185 [==============================]7185/7185 [==============================] - 4s 536us/step - loss: 2.2736 - acc: 0.3712 - val_loss: 2.2270 - val_acc: 0.3656\n",
      "\n",
      "Epoch 9/50\n",
      "7185/7185 [==============================]7185/7185 [==============================] - 4s 534us/step - loss: 2.2023 - acc: 0.3816 - val_loss: 2.1558 - val_acc: 0.3834\n",
      "\n",
      "Epoch 10/50\n",
      "7185/7185 [==============================]7185/7185 [==============================] - 4s 522us/step - loss: 2.1431 - acc: 0.4015 - val_loss: 2.1006 - val_acc: 0.4040\n",
      "\n",
      "Epoch 11/50\n",
      "7185/7185 [==============================]7185/7185 [==============================] - 4s 525us/step - loss: 2.0927 - acc: 0.4256 - val_loss: 2.0480 - val_acc: 0.4201\n",
      "\n",
      "Epoch 12/50\n",
      "7185/7185 [==============================]7185/7185 [==============================] - 4s 526us/step - loss: 2.0429 - acc: 0.4522 - val_loss: 1.9995 - val_acc: 0.4975\n",
      "\n",
      "Epoch 13/50\n",
      "7185/7185 [==============================]7185/7185 [==============================] - 4s 514us/step - loss: 1.9869 - acc: 0.4724 - val_loss: 1.9485 - val_acc: 0.4752\n",
      "\n",
      "Epoch 14/50\n",
      "7185/7185 [==============================]7185/7185 [==============================] - 4s 510us/step - loss: 1.9272 - acc: 0.4991 - val_loss: 1.8941 - val_acc: 0.5142\n",
      "\n",
      "Epoch 15/50\n",
      "7185/7185 [==============================]7185/7185 [==============================] - 4s 507us/step - loss: 1.8736 - acc: 0.5165 - val_loss: 1.8323 - val_acc: 0.5242\n",
      "\n",
      "Epoch 16/50\n",
      "7185/7185 [==============================]7185/7185 [==============================] - 4s 496us/step - loss: 1.8219 - acc: 0.5338 - val_loss: 1.7938 - val_acc: 0.5359\n",
      "\n",
      "Epoch 17/50\n",
      "7185/7185 [==============================]7185/7185 [==============================] - 4s 489us/step - loss: 1.7755 - acc: 0.5471 - val_loss: 1.7658 - val_acc: 0.5509\n",
      "\n",
      "Epoch 18/50\n",
      "7185/7185 [==============================]7185/7185 [==============================] - 4s 503us/step - loss: 1.7371 - acc: 0.5609 - val_loss: 1.7370 - val_acc: 0.5598\n",
      "\n",
      "Epoch 19/50\n",
      "7185/7185 [==============================]7185/7185 [==============================] - 4s 495us/step - loss: 1.7064 - acc: 0.5738 - val_loss: 1.6914 - val_acc: 0.5760\n",
      "\n",
      "Epoch 20/50\n",
      "7185/7185 [==============================]7185/7185 [==============================] - 4s 492us/step - loss: 1.6768 - acc: 0.5800 - val_loss: 1.6731 - val_acc: 0.5904\n",
      "\n",
      "Epoch 21/50\n",
      "7185/7185 [==============================]7185/7185 [==============================] - 4s 548us/step - loss: 1.6547 - acc: 0.5847 - val_loss: 1.6539 - val_acc: 0.5938\n",
      "\n",
      "Epoch 22/50\n",
      "7185/7185 [==============================]7185/7185 [==============================] - 4s 512us/step - loss: 1.6368 - acc: 0.5936 - val_loss: 1.6344 - val_acc: 0.6055\n",
      "\n",
      "Epoch 23/50\n",
      "7185/7185 [==============================]7185/7185 [==============================] - 3s 482us/step - loss: 1.6155 - acc: 0.5982 - val_loss: 1.6220 - val_acc: 0.5960\n",
      "\n",
      "Epoch 24/50\n",
      "7185/7185 [==============================]7185/7185 [==============================] - 3s 478us/step - loss: 1.5966 - acc: 0.6013 - val_loss: 1.6072 - val_acc: 0.6127\n",
      "\n",
      "Epoch 25/50\n",
      "7185/7185 [==============================]7185/7185 [==============================] - 3s 479us/step - loss: 1.5821 - acc: 0.6060 - val_loss: 1.6048 - val_acc: 0.6027\n",
      "\n",
      "Epoch 26/50\n",
      "7185/7185 [==============================]7185/7185 [==============================] - 3s 482us/step - loss: 1.5699 - acc: 0.6081 - val_loss: 1.5891 - val_acc: 0.6177\n",
      "\n",
      "Epoch 27/50\n",
      "7185/7185 [==============================]7185/7185 [==============================] - 3s 478us/step - loss: 1.5537 - acc: 0.6148 - val_loss: 1.5764 - val_acc: 0.6171\n",
      "\n",
      "Epoch 28/50\n",
      "7185/7185 [==============================]7185/7185 [==============================] - 3s 478us/step - loss: 1.5427 - acc: 0.6152 - val_loss: 1.5649 - val_acc: 0.6194\n",
      "\n",
      "Epoch 29/50\n",
      "7185/7185 [==============================]7185/7185 [==============================] - 3s 479us/step - loss: 1.5293 - acc: 0.6207 - val_loss: 1.5563 - val_acc: 0.6272\n",
      "\n",
      "Epoch 30/50\n",
      "7185/7185 [==============================]7185/7185 [==============================] - 3s 479us/step - loss: 1.5177 - acc: 0.6259 - val_loss: 1.5434 - val_acc: 0.6260\n",
      "\n",
      "Epoch 31/50\n",
      "7185/7185 [==============================]7185/7185 [==============================] - 3s 484us/step - loss: 1.5042 - acc: 0.6280 - val_loss: 1.5439 - val_acc: 0.6411\n",
      "\n",
      "Epoch 32/50\n",
      "7185/7185 [==============================]7185/7185 [==============================] - 3s 476us/step - loss: 1.4921 - acc: 0.6277 - val_loss: 1.5321 - val_acc: 0.6311\n",
      "\n",
      "Epoch 33/50\n",
      "7185/7185 [==============================]7185/7185 [==============================] - ETA: 0s - loss: 1.4794 - acc: 0.635 - 3s 481us/step - loss: 1.4783 - acc: 0.6360 - val_loss: 1.5211 - val_acc: 0.6277\n",
      "\n",
      "Epoch 34/50\n",
      "7185/7185 [==============================]7185/7185 [==============================] - 3s 481us/step - loss: 1.4652 - acc: 0.6360 - val_loss: 1.5086 - val_acc: 0.6361\n",
      "\n",
      "Epoch 35/50\n",
      "7185/7185 [==============================]7185/7185 [==============================] - 3s 479us/step - loss: 1.4541 - acc: 0.6388 - val_loss: 1.5024 - val_acc: 0.6366\n",
      "\n",
      "Epoch 36/50\n",
      "7185/7185 [==============================]7185/7185 [==============================] - 3s 484us/step - loss: 1.4449 - acc: 0.6423 - val_loss: 1.4990 - val_acc: 0.6505\n",
      "\n",
      "Epoch 37/50\n",
      "7185/7185 [==============================]7185/7185 [==============================] - 3s 470us/step - loss: 1.4308 - acc: 0.6455 - val_loss: 1.4818 - val_acc: 0.6539\n",
      "\n",
      "Epoch 38/50\n",
      "7185/7185 [==============================]7185/7185 [==============================] - 3s 479us/step - loss: 1.4175 - acc: 0.6466 - val_loss: 1.4788 - val_acc: 0.6466\n",
      "\n",
      "Epoch 39/50\n",
      "7185/7185 [==============================]7185/7185 [==============================] - 3s 484us/step - loss: 1.4102 - acc: 0.6519 - val_loss: 1.4750 - val_acc: 0.6400\n",
      "\n",
      "Epoch 40/50\n",
      "7185/7185 [==============================]7185/7185 [==============================] - 4s 492us/step - loss: 1.4004 - acc: 0.6511 - val_loss: 1.4763 - val_acc: 0.6533\n",
      "\n",
      "Epoch 41/50\n",
      "7185/7185 [==============================]7185/7185 [==============================] - 4s 487us/step - loss: 1.3881 - acc: 0.6515 - val_loss: 1.4735 - val_acc: 0.6472\n",
      "\n",
      "Epoch 42/50\n",
      "7185/7185 [==============================]7185/7185 [==============================] - 3s 485us/step - loss: 1.3783 - acc: 0.6569 - val_loss: 1.4582 - val_acc: 0.6427\n",
      "\n",
      "Epoch 43/50\n",
      "7185/7185 [==============================]7185/7185 [==============================] - 3s 473us/step - loss: 1.3670 - acc: 0.6575 - val_loss: 1.4628 - val_acc: 0.6411\n",
      "\n",
      "Epoch 44/50\n",
      "7185/7185 [==============================]7185/7185 [==============================] - 3s 483us/step - loss: 1.3585 - acc: 0.6600 - val_loss: 1.4344 - val_acc: 0.6500\n",
      "\n",
      "Epoch 45/50\n",
      "7185/7185 [==============================]7185/7185 [==============================] - 4s 488us/step - loss: 1.3486 - acc: 0.6608 - val_loss: 1.4313 - val_acc: 0.6489\n",
      "\n",
      "Epoch 46/50\n"
     ]
    },
    {
     "name": "stdout",
     "output_type": "stream",
     "text": [
      "7185/7185 [==============================]7185/7185 [==============================] - 4s 498us/step - loss: 1.3367 - acc: 0.6654 - val_loss: 1.4288 - val_acc: 0.6516\n",
      "\n",
      "Epoch 47/50\n",
      "7185/7185 [==============================]7185/7185 [==============================] - 3s 481us/step - loss: 1.3269 - acc: 0.6682 - val_loss: 1.4227 - val_acc: 0.6583\n",
      "\n",
      "Epoch 48/50\n",
      "7185/7185 [==============================]7185/7185 [==============================] - 3s 484us/step - loss: 1.3148 - acc: 0.6738 - val_loss: 1.4127 - val_acc: 0.6522\n",
      "\n",
      "Epoch 49/50\n",
      "7185/7185 [==============================]7185/7185 [==============================] - 4s 506us/step - loss: 1.3039 - acc: 0.6742 - val_loss: 1.4086 - val_acc: 0.6661\n",
      "\n",
      "Epoch 50/50\n",
      "7185/7185 [==============================]7185/7185 [==============================] - 3s 484us/step - loss: 1.2958 - acc: 0.6804 - val_loss: 1.3984 - val_acc: 0.6589\n",
      "\n"
     ]
    }
   ],
   "source": [
    "history = model.fit(train_data,\n",
    "                    train_labels,\n",
    "                    validation_split=.2,\n",
    "                   epochs = 50)"
   ]
  },
  {
   "cell_type": "markdown",
   "metadata": {},
   "source": [
    "**Look at results**"
   ]
  },
  {
   "cell_type": "code",
   "execution_count": 12,
   "metadata": {},
   "outputs": [
    {
     "name": "stdout",
     "output_type": "stream",
     "text": [
      "2246/2246 [==============================]2246/2246 [==============================] - 0s 85us/step\n",
      "\n",
      "[1.4751674678850046, 0.6442564559747147]\n"
     ]
    }
   ],
   "source": [
    "results = model.evaluate(test_data, test_labels)\n",
    "\n",
    "print(results)"
   ]
  },
  {
   "cell_type": "code",
   "execution_count": 13,
   "metadata": {},
   "outputs": [
    {
     "data": {
      "text/plain": [
       "['acc', 'loss', 'val_acc', 'val_loss']"
      ]
     },
     "execution_count": 13,
     "metadata": {},
     "output_type": "execute_result"
    }
   ],
   "source": [
    "history_dict = history.history\n",
    "history_dict.keys()"
   ]
  },
  {
   "cell_type": "code",
   "execution_count": 14,
   "metadata": {},
   "outputs": [
    {
     "data": {
      "image/png": "[encoded data removed]",
      "text/plain": [
       "<Figure size 432x288 with 1 Axes>"
      ]
     },
     "metadata": {
      "needs_background": "light"
     },
     "output_type": "display_data"
    }
   ],
   "source": [
    "plt.clf()\n",
    "\n",
    "acc = history_dict['acc']\n",
    "val_acc = history_dict['val_acc']\n",
    "loss = history_dict['loss']\n",
    "val_loss = history_dict['val_loss']\n",
    "\n",
    "epochs = range(1, len(acc) + 1)\n",
    "\n",
    "# \"bo\" is for \"blue dot\"\n",
    "plt.plot(epochs, loss, 'bo', label='Training loss')\n",
    "# b is for \"solid blue line\"\n",
    "plt.plot(epochs, val_loss, 'b', label='Validation loss')\n",
    "plt.title('Training and validation loss')\n",
    "plt.xlabel('Epochs')\n",
    "plt.ylabel('Loss')\n",
    "plt.legend()\n",
    "\n",
    "plt.show()"
   ]
  },
  {
   "cell_type": "code",
   "execution_count": 15,
   "metadata": {},
   "outputs": [
    {
     "data": {
      "image/png": "[encoded data removed]",
      "text/plain": [
       "<Figure size 432x288 with 1 Axes>"
      ]
     },
     "metadata": {
      "needs_background": "light"
     },
     "output_type": "display_data"
    }
   ],
   "source": [
    "plt.clf()   # clear figure\n",
    "\n",
    "plt.plot(epochs, acc, 'bo', label='Training acc')\n",
    "plt.plot(epochs, val_acc, 'b', label='Validation acc')\n",
    "plt.title('Training and validation accuracy')\n",
    "plt.xlabel('Epochs')\n",
    "plt.ylabel('Accuracy')\n",
    "plt.legend()\n",
    "\n",
    "plt.show()"
   ]
  },
  {
   "cell_type": "code",
   "execution_count": null,
   "metadata": {},
   "outputs": [],
   "source": []
  }
 ],
 "metadata": {
  "kernelspec": {
   "display_name": "Python 2",
   "language": "python",
   "name": "python2"
  },
  "language_info": {
   "codemirror_mode": {
    "name": "ipython",
    "version": 2
   },
   "file_extension": ".py",
   "mimetype": "text/x-python",
   "name": "python",
   "nbconvert_exporter": "python",
   "pygments_lexer": "ipython2",
   "version": "2.7.14+"
  }
 },
 "nbformat": 4,
 "nbformat_minor": 2
}
